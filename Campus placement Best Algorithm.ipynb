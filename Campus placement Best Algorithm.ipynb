{
 "cells": [
  {
   "cell_type": "code",
   "execution_count": 1,
   "metadata": {},
   "outputs": [],
   "source": [
    "import numpy as np\n",
    "import pandas as pd"
   ]
  },
  {
   "cell_type": "code",
   "execution_count": 2,
   "metadata": {},
   "outputs": [],
   "source": [
    "dataset=pd.read_csv(\"C:\\\\Users\\\\hsesu\\\\Desktop\\\\Bigdata project\\\\Placement_Data_Full_Class.csv\")"
   ]
  },
  {
   "cell_type": "code",
   "execution_count": 3,
   "metadata": {},
   "outputs": [
    {
     "data": {
      "text/html": [
       "<div>\n",
       "<style scoped>\n",
       "    .dataframe tbody tr th:only-of-type {\n",
       "        vertical-align: middle;\n",
       "    }\n",
       "\n",
       "    .dataframe tbody tr th {\n",
       "        vertical-align: top;\n",
       "    }\n",
       "\n",
       "    .dataframe thead th {\n",
       "        text-align: right;\n",
       "    }\n",
       "</style>\n",
       "<table border=\"1\" class=\"dataframe\">\n",
       "  <thead>\n",
       "    <tr style=\"text-align: right;\">\n",
       "      <th></th>\n",
       "      <th>sl_no</th>\n",
       "      <th>gender</th>\n",
       "      <th>ssc_p</th>\n",
       "      <th>ssc_b</th>\n",
       "      <th>hsc_p</th>\n",
       "      <th>hsc_b</th>\n",
       "      <th>hsc_s</th>\n",
       "      <th>degree_p</th>\n",
       "      <th>degree_t</th>\n",
       "      <th>workex</th>\n",
       "      <th>etest_p</th>\n",
       "      <th>specialisation</th>\n",
       "      <th>mba_p</th>\n",
       "      <th>status</th>\n",
       "      <th>salary</th>\n",
       "    </tr>\n",
       "  </thead>\n",
       "  <tbody>\n",
       "    <tr>\n",
       "      <th>0</th>\n",
       "      <td>1</td>\n",
       "      <td>M</td>\n",
       "      <td>67.00</td>\n",
       "      <td>Others</td>\n",
       "      <td>91.00</td>\n",
       "      <td>Others</td>\n",
       "      <td>Commerce</td>\n",
       "      <td>58.00</td>\n",
       "      <td>Sci&amp;Tech</td>\n",
       "      <td>No</td>\n",
       "      <td>55.0</td>\n",
       "      <td>Mkt&amp;HR</td>\n",
       "      <td>58.80</td>\n",
       "      <td>Placed</td>\n",
       "      <td>270000.0</td>\n",
       "    </tr>\n",
       "    <tr>\n",
       "      <th>1</th>\n",
       "      <td>2</td>\n",
       "      <td>M</td>\n",
       "      <td>79.33</td>\n",
       "      <td>Central</td>\n",
       "      <td>78.33</td>\n",
       "      <td>Others</td>\n",
       "      <td>Science</td>\n",
       "      <td>77.48</td>\n",
       "      <td>Sci&amp;Tech</td>\n",
       "      <td>Yes</td>\n",
       "      <td>86.5</td>\n",
       "      <td>Mkt&amp;Fin</td>\n",
       "      <td>66.28</td>\n",
       "      <td>Placed</td>\n",
       "      <td>200000.0</td>\n",
       "    </tr>\n",
       "    <tr>\n",
       "      <th>2</th>\n",
       "      <td>3</td>\n",
       "      <td>M</td>\n",
       "      <td>65.00</td>\n",
       "      <td>Central</td>\n",
       "      <td>68.00</td>\n",
       "      <td>Central</td>\n",
       "      <td>Arts</td>\n",
       "      <td>64.00</td>\n",
       "      <td>Comm&amp;Mgmt</td>\n",
       "      <td>No</td>\n",
       "      <td>75.0</td>\n",
       "      <td>Mkt&amp;Fin</td>\n",
       "      <td>57.80</td>\n",
       "      <td>Placed</td>\n",
       "      <td>250000.0</td>\n",
       "    </tr>\n",
       "    <tr>\n",
       "      <th>3</th>\n",
       "      <td>4</td>\n",
       "      <td>M</td>\n",
       "      <td>56.00</td>\n",
       "      <td>Central</td>\n",
       "      <td>52.00</td>\n",
       "      <td>Central</td>\n",
       "      <td>Science</td>\n",
       "      <td>52.00</td>\n",
       "      <td>Sci&amp;Tech</td>\n",
       "      <td>No</td>\n",
       "      <td>66.0</td>\n",
       "      <td>Mkt&amp;HR</td>\n",
       "      <td>59.43</td>\n",
       "      <td>Not Placed</td>\n",
       "      <td>NaN</td>\n",
       "    </tr>\n",
       "    <tr>\n",
       "      <th>4</th>\n",
       "      <td>5</td>\n",
       "      <td>M</td>\n",
       "      <td>85.80</td>\n",
       "      <td>Central</td>\n",
       "      <td>73.60</td>\n",
       "      <td>Central</td>\n",
       "      <td>Commerce</td>\n",
       "      <td>73.30</td>\n",
       "      <td>Comm&amp;Mgmt</td>\n",
       "      <td>No</td>\n",
       "      <td>96.8</td>\n",
       "      <td>Mkt&amp;Fin</td>\n",
       "      <td>55.50</td>\n",
       "      <td>Placed</td>\n",
       "      <td>425000.0</td>\n",
       "    </tr>\n",
       "    <tr>\n",
       "      <th>...</th>\n",
       "      <td>...</td>\n",
       "      <td>...</td>\n",
       "      <td>...</td>\n",
       "      <td>...</td>\n",
       "      <td>...</td>\n",
       "      <td>...</td>\n",
       "      <td>...</td>\n",
       "      <td>...</td>\n",
       "      <td>...</td>\n",
       "      <td>...</td>\n",
       "      <td>...</td>\n",
       "      <td>...</td>\n",
       "      <td>...</td>\n",
       "      <td>...</td>\n",
       "      <td>...</td>\n",
       "    </tr>\n",
       "    <tr>\n",
       "      <th>210</th>\n",
       "      <td>211</td>\n",
       "      <td>M</td>\n",
       "      <td>80.60</td>\n",
       "      <td>Others</td>\n",
       "      <td>82.00</td>\n",
       "      <td>Others</td>\n",
       "      <td>Commerce</td>\n",
       "      <td>77.60</td>\n",
       "      <td>Comm&amp;Mgmt</td>\n",
       "      <td>No</td>\n",
       "      <td>91.0</td>\n",
       "      <td>Mkt&amp;Fin</td>\n",
       "      <td>74.49</td>\n",
       "      <td>Placed</td>\n",
       "      <td>400000.0</td>\n",
       "    </tr>\n",
       "    <tr>\n",
       "      <th>211</th>\n",
       "      <td>212</td>\n",
       "      <td>M</td>\n",
       "      <td>58.00</td>\n",
       "      <td>Others</td>\n",
       "      <td>60.00</td>\n",
       "      <td>Others</td>\n",
       "      <td>Science</td>\n",
       "      <td>72.00</td>\n",
       "      <td>Sci&amp;Tech</td>\n",
       "      <td>No</td>\n",
       "      <td>74.0</td>\n",
       "      <td>Mkt&amp;Fin</td>\n",
       "      <td>53.62</td>\n",
       "      <td>Placed</td>\n",
       "      <td>275000.0</td>\n",
       "    </tr>\n",
       "    <tr>\n",
       "      <th>212</th>\n",
       "      <td>213</td>\n",
       "      <td>M</td>\n",
       "      <td>67.00</td>\n",
       "      <td>Others</td>\n",
       "      <td>67.00</td>\n",
       "      <td>Others</td>\n",
       "      <td>Commerce</td>\n",
       "      <td>73.00</td>\n",
       "      <td>Comm&amp;Mgmt</td>\n",
       "      <td>Yes</td>\n",
       "      <td>59.0</td>\n",
       "      <td>Mkt&amp;Fin</td>\n",
       "      <td>69.72</td>\n",
       "      <td>Placed</td>\n",
       "      <td>295000.0</td>\n",
       "    </tr>\n",
       "    <tr>\n",
       "      <th>213</th>\n",
       "      <td>214</td>\n",
       "      <td>F</td>\n",
       "      <td>74.00</td>\n",
       "      <td>Others</td>\n",
       "      <td>66.00</td>\n",
       "      <td>Others</td>\n",
       "      <td>Commerce</td>\n",
       "      <td>58.00</td>\n",
       "      <td>Comm&amp;Mgmt</td>\n",
       "      <td>No</td>\n",
       "      <td>70.0</td>\n",
       "      <td>Mkt&amp;HR</td>\n",
       "      <td>60.23</td>\n",
       "      <td>Placed</td>\n",
       "      <td>204000.0</td>\n",
       "    </tr>\n",
       "    <tr>\n",
       "      <th>214</th>\n",
       "      <td>215</td>\n",
       "      <td>M</td>\n",
       "      <td>62.00</td>\n",
       "      <td>Central</td>\n",
       "      <td>58.00</td>\n",
       "      <td>Others</td>\n",
       "      <td>Science</td>\n",
       "      <td>53.00</td>\n",
       "      <td>Comm&amp;Mgmt</td>\n",
       "      <td>No</td>\n",
       "      <td>89.0</td>\n",
       "      <td>Mkt&amp;HR</td>\n",
       "      <td>60.22</td>\n",
       "      <td>Not Placed</td>\n",
       "      <td>NaN</td>\n",
       "    </tr>\n",
       "  </tbody>\n",
       "</table>\n",
       "<p>215 rows × 15 columns</p>\n",
       "</div>"
      ],
      "text/plain": [
       "     sl_no gender  ssc_p    ssc_b  hsc_p    hsc_b     hsc_s  degree_p  \\\n",
       "0        1      M  67.00   Others  91.00   Others  Commerce     58.00   \n",
       "1        2      M  79.33  Central  78.33   Others   Science     77.48   \n",
       "2        3      M  65.00  Central  68.00  Central      Arts     64.00   \n",
       "3        4      M  56.00  Central  52.00  Central   Science     52.00   \n",
       "4        5      M  85.80  Central  73.60  Central  Commerce     73.30   \n",
       "..     ...    ...    ...      ...    ...      ...       ...       ...   \n",
       "210    211      M  80.60   Others  82.00   Others  Commerce     77.60   \n",
       "211    212      M  58.00   Others  60.00   Others   Science     72.00   \n",
       "212    213      M  67.00   Others  67.00   Others  Commerce     73.00   \n",
       "213    214      F  74.00   Others  66.00   Others  Commerce     58.00   \n",
       "214    215      M  62.00  Central  58.00   Others   Science     53.00   \n",
       "\n",
       "      degree_t workex  etest_p specialisation  mba_p      status    salary  \n",
       "0     Sci&Tech     No     55.0         Mkt&HR  58.80      Placed  270000.0  \n",
       "1     Sci&Tech    Yes     86.5        Mkt&Fin  66.28      Placed  200000.0  \n",
       "2    Comm&Mgmt     No     75.0        Mkt&Fin  57.80      Placed  250000.0  \n",
       "3     Sci&Tech     No     66.0         Mkt&HR  59.43  Not Placed       NaN  \n",
       "4    Comm&Mgmt     No     96.8        Mkt&Fin  55.50      Placed  425000.0  \n",
       "..         ...    ...      ...            ...    ...         ...       ...  \n",
       "210  Comm&Mgmt     No     91.0        Mkt&Fin  74.49      Placed  400000.0  \n",
       "211   Sci&Tech     No     74.0        Mkt&Fin  53.62      Placed  275000.0  \n",
       "212  Comm&Mgmt    Yes     59.0        Mkt&Fin  69.72      Placed  295000.0  \n",
       "213  Comm&Mgmt     No     70.0         Mkt&HR  60.23      Placed  204000.0  \n",
       "214  Comm&Mgmt     No     89.0         Mkt&HR  60.22  Not Placed       NaN  \n",
       "\n",
       "[215 rows x 15 columns]"
      ]
     },
     "execution_count": 3,
     "metadata": {},
     "output_type": "execute_result"
    }
   ],
   "source": [
    "dataset"
   ]
  },
  {
   "cell_type": "code",
   "execution_count": 4,
   "metadata": {},
   "outputs": [],
   "source": [
    "#Data preprocessing"
   ]
  },
  {
   "cell_type": "code",
   "execution_count": 5,
   "metadata": {},
   "outputs": [
    {
     "data": {
      "text/plain": [
       "sl_no             False\n",
       "gender            False\n",
       "ssc_p             False\n",
       "ssc_b             False\n",
       "hsc_p             False\n",
       "hsc_b             False\n",
       "hsc_s             False\n",
       "degree_p          False\n",
       "degree_t          False\n",
       "workex            False\n",
       "etest_p           False\n",
       "specialisation    False\n",
       "mba_p             False\n",
       "status            False\n",
       "salary             True\n",
       "dtype: bool"
      ]
     },
     "execution_count": 5,
     "metadata": {},
     "output_type": "execute_result"
    }
   ],
   "source": [
    "dataset.isnull().any()"
   ]
  },
  {
   "cell_type": "code",
   "execution_count": 6,
   "metadata": {},
   "outputs": [],
   "source": [
    "dataset.replace(np.nan,0,inplace=True)"
   ]
  },
  {
   "cell_type": "code",
   "execution_count": 7,
   "metadata": {},
   "outputs": [],
   "source": [
    "dataset[\"status\"]=dataset[\"status\"].replace('Placed',1)\n",
    "dataset[\"status\"]=dataset[\"status\"].replace('Not Placed',0)"
   ]
  },
  {
   "cell_type": "code",
   "execution_count": 8,
   "metadata": {},
   "outputs": [
    {
     "data": {
      "text/html": [
       "<div>\n",
       "<style scoped>\n",
       "    .dataframe tbody tr th:only-of-type {\n",
       "        vertical-align: middle;\n",
       "    }\n",
       "\n",
       "    .dataframe tbody tr th {\n",
       "        vertical-align: top;\n",
       "    }\n",
       "\n",
       "    .dataframe thead th {\n",
       "        text-align: right;\n",
       "    }\n",
       "</style>\n",
       "<table border=\"1\" class=\"dataframe\">\n",
       "  <thead>\n",
       "    <tr style=\"text-align: right;\">\n",
       "      <th></th>\n",
       "      <th>sl_no</th>\n",
       "      <th>gender</th>\n",
       "      <th>ssc_p</th>\n",
       "      <th>ssc_b</th>\n",
       "      <th>hsc_p</th>\n",
       "      <th>hsc_b</th>\n",
       "      <th>hsc_s</th>\n",
       "      <th>degree_p</th>\n",
       "      <th>degree_t</th>\n",
       "      <th>workex</th>\n",
       "      <th>etest_p</th>\n",
       "      <th>specialisation</th>\n",
       "      <th>mba_p</th>\n",
       "      <th>status</th>\n",
       "      <th>salary</th>\n",
       "    </tr>\n",
       "  </thead>\n",
       "  <tbody>\n",
       "    <tr>\n",
       "      <th>0</th>\n",
       "      <td>1</td>\n",
       "      <td>M</td>\n",
       "      <td>67.00</td>\n",
       "      <td>Others</td>\n",
       "      <td>91.00</td>\n",
       "      <td>Others</td>\n",
       "      <td>Commerce</td>\n",
       "      <td>58.00</td>\n",
       "      <td>Sci&amp;Tech</td>\n",
       "      <td>No</td>\n",
       "      <td>55.00</td>\n",
       "      <td>Mkt&amp;HR</td>\n",
       "      <td>58.80</td>\n",
       "      <td>1</td>\n",
       "      <td>270000.0</td>\n",
       "    </tr>\n",
       "    <tr>\n",
       "      <th>1</th>\n",
       "      <td>2</td>\n",
       "      <td>M</td>\n",
       "      <td>79.33</td>\n",
       "      <td>Central</td>\n",
       "      <td>78.33</td>\n",
       "      <td>Others</td>\n",
       "      <td>Science</td>\n",
       "      <td>77.48</td>\n",
       "      <td>Sci&amp;Tech</td>\n",
       "      <td>Yes</td>\n",
       "      <td>86.50</td>\n",
       "      <td>Mkt&amp;Fin</td>\n",
       "      <td>66.28</td>\n",
       "      <td>1</td>\n",
       "      <td>200000.0</td>\n",
       "    </tr>\n",
       "    <tr>\n",
       "      <th>2</th>\n",
       "      <td>3</td>\n",
       "      <td>M</td>\n",
       "      <td>65.00</td>\n",
       "      <td>Central</td>\n",
       "      <td>68.00</td>\n",
       "      <td>Central</td>\n",
       "      <td>Arts</td>\n",
       "      <td>64.00</td>\n",
       "      <td>Comm&amp;Mgmt</td>\n",
       "      <td>No</td>\n",
       "      <td>75.00</td>\n",
       "      <td>Mkt&amp;Fin</td>\n",
       "      <td>57.80</td>\n",
       "      <td>1</td>\n",
       "      <td>250000.0</td>\n",
       "    </tr>\n",
       "    <tr>\n",
       "      <th>3</th>\n",
       "      <td>4</td>\n",
       "      <td>M</td>\n",
       "      <td>56.00</td>\n",
       "      <td>Central</td>\n",
       "      <td>52.00</td>\n",
       "      <td>Central</td>\n",
       "      <td>Science</td>\n",
       "      <td>52.00</td>\n",
       "      <td>Sci&amp;Tech</td>\n",
       "      <td>No</td>\n",
       "      <td>66.00</td>\n",
       "      <td>Mkt&amp;HR</td>\n",
       "      <td>59.43</td>\n",
       "      <td>0</td>\n",
       "      <td>0.0</td>\n",
       "    </tr>\n",
       "    <tr>\n",
       "      <th>4</th>\n",
       "      <td>5</td>\n",
       "      <td>M</td>\n",
       "      <td>85.80</td>\n",
       "      <td>Central</td>\n",
       "      <td>73.60</td>\n",
       "      <td>Central</td>\n",
       "      <td>Commerce</td>\n",
       "      <td>73.30</td>\n",
       "      <td>Comm&amp;Mgmt</td>\n",
       "      <td>No</td>\n",
       "      <td>96.80</td>\n",
       "      <td>Mkt&amp;Fin</td>\n",
       "      <td>55.50</td>\n",
       "      <td>1</td>\n",
       "      <td>425000.0</td>\n",
       "    </tr>\n",
       "    <tr>\n",
       "      <th>5</th>\n",
       "      <td>6</td>\n",
       "      <td>M</td>\n",
       "      <td>55.00</td>\n",
       "      <td>Others</td>\n",
       "      <td>49.80</td>\n",
       "      <td>Others</td>\n",
       "      <td>Science</td>\n",
       "      <td>67.25</td>\n",
       "      <td>Sci&amp;Tech</td>\n",
       "      <td>Yes</td>\n",
       "      <td>55.00</td>\n",
       "      <td>Mkt&amp;Fin</td>\n",
       "      <td>51.58</td>\n",
       "      <td>0</td>\n",
       "      <td>0.0</td>\n",
       "    </tr>\n",
       "    <tr>\n",
       "      <th>6</th>\n",
       "      <td>7</td>\n",
       "      <td>F</td>\n",
       "      <td>46.00</td>\n",
       "      <td>Others</td>\n",
       "      <td>49.20</td>\n",
       "      <td>Others</td>\n",
       "      <td>Commerce</td>\n",
       "      <td>79.00</td>\n",
       "      <td>Comm&amp;Mgmt</td>\n",
       "      <td>No</td>\n",
       "      <td>74.28</td>\n",
       "      <td>Mkt&amp;Fin</td>\n",
       "      <td>53.29</td>\n",
       "      <td>0</td>\n",
       "      <td>0.0</td>\n",
       "    </tr>\n",
       "    <tr>\n",
       "      <th>7</th>\n",
       "      <td>8</td>\n",
       "      <td>M</td>\n",
       "      <td>82.00</td>\n",
       "      <td>Central</td>\n",
       "      <td>64.00</td>\n",
       "      <td>Central</td>\n",
       "      <td>Science</td>\n",
       "      <td>66.00</td>\n",
       "      <td>Sci&amp;Tech</td>\n",
       "      <td>Yes</td>\n",
       "      <td>67.00</td>\n",
       "      <td>Mkt&amp;Fin</td>\n",
       "      <td>62.14</td>\n",
       "      <td>1</td>\n",
       "      <td>252000.0</td>\n",
       "    </tr>\n",
       "    <tr>\n",
       "      <th>8</th>\n",
       "      <td>9</td>\n",
       "      <td>M</td>\n",
       "      <td>73.00</td>\n",
       "      <td>Central</td>\n",
       "      <td>79.00</td>\n",
       "      <td>Central</td>\n",
       "      <td>Commerce</td>\n",
       "      <td>72.00</td>\n",
       "      <td>Comm&amp;Mgmt</td>\n",
       "      <td>No</td>\n",
       "      <td>91.34</td>\n",
       "      <td>Mkt&amp;Fin</td>\n",
       "      <td>61.29</td>\n",
       "      <td>1</td>\n",
       "      <td>231000.0</td>\n",
       "    </tr>\n",
       "    <tr>\n",
       "      <th>9</th>\n",
       "      <td>10</td>\n",
       "      <td>M</td>\n",
       "      <td>58.00</td>\n",
       "      <td>Central</td>\n",
       "      <td>70.00</td>\n",
       "      <td>Central</td>\n",
       "      <td>Commerce</td>\n",
       "      <td>61.00</td>\n",
       "      <td>Comm&amp;Mgmt</td>\n",
       "      <td>No</td>\n",
       "      <td>54.00</td>\n",
       "      <td>Mkt&amp;Fin</td>\n",
       "      <td>52.21</td>\n",
       "      <td>0</td>\n",
       "      <td>0.0</td>\n",
       "    </tr>\n",
       "  </tbody>\n",
       "</table>\n",
       "</div>"
      ],
      "text/plain": [
       "   sl_no gender  ssc_p    ssc_b  hsc_p    hsc_b     hsc_s  degree_p  \\\n",
       "0      1      M  67.00   Others  91.00   Others  Commerce     58.00   \n",
       "1      2      M  79.33  Central  78.33   Others   Science     77.48   \n",
       "2      3      M  65.00  Central  68.00  Central      Arts     64.00   \n",
       "3      4      M  56.00  Central  52.00  Central   Science     52.00   \n",
       "4      5      M  85.80  Central  73.60  Central  Commerce     73.30   \n",
       "5      6      M  55.00   Others  49.80   Others   Science     67.25   \n",
       "6      7      F  46.00   Others  49.20   Others  Commerce     79.00   \n",
       "7      8      M  82.00  Central  64.00  Central   Science     66.00   \n",
       "8      9      M  73.00  Central  79.00  Central  Commerce     72.00   \n",
       "9     10      M  58.00  Central  70.00  Central  Commerce     61.00   \n",
       "\n",
       "    degree_t workex  etest_p specialisation  mba_p  status    salary  \n",
       "0   Sci&Tech     No    55.00         Mkt&HR  58.80       1  270000.0  \n",
       "1   Sci&Tech    Yes    86.50        Mkt&Fin  66.28       1  200000.0  \n",
       "2  Comm&Mgmt     No    75.00        Mkt&Fin  57.80       1  250000.0  \n",
       "3   Sci&Tech     No    66.00         Mkt&HR  59.43       0       0.0  \n",
       "4  Comm&Mgmt     No    96.80        Mkt&Fin  55.50       1  425000.0  \n",
       "5   Sci&Tech    Yes    55.00        Mkt&Fin  51.58       0       0.0  \n",
       "6  Comm&Mgmt     No    74.28        Mkt&Fin  53.29       0       0.0  \n",
       "7   Sci&Tech    Yes    67.00        Mkt&Fin  62.14       1  252000.0  \n",
       "8  Comm&Mgmt     No    91.34        Mkt&Fin  61.29       1  231000.0  \n",
       "9  Comm&Mgmt     No    54.00        Mkt&Fin  52.21       0       0.0  "
      ]
     },
     "execution_count": 8,
     "metadata": {},
     "output_type": "execute_result"
    }
   ],
   "source": [
    "dataset.head(10)"
   ]
  },
  {
   "cell_type": "code",
   "execution_count": 9,
   "metadata": {},
   "outputs": [
    {
     "data": {
      "text/plain": [
       "sl_no             False\n",
       "gender            False\n",
       "ssc_p             False\n",
       "ssc_b             False\n",
       "hsc_p             False\n",
       "hsc_b             False\n",
       "hsc_s             False\n",
       "degree_p          False\n",
       "degree_t          False\n",
       "workex            False\n",
       "etest_p           False\n",
       "specialisation    False\n",
       "mba_p             False\n",
       "status            False\n",
       "salary            False\n",
       "dtype: bool"
      ]
     },
     "execution_count": 9,
     "metadata": {},
     "output_type": "execute_result"
    }
   ],
   "source": [
    "dataset.isnull().any()"
   ]
  },
  {
   "cell_type": "code",
   "execution_count": null,
   "metadata": {},
   "outputs": [],
   "source": []
  },
  {
   "cell_type": "code",
   "execution_count": 10,
   "metadata": {},
   "outputs": [
    {
     "data": {
      "text/plain": [
       "sl_no               int64\n",
       "gender             object\n",
       "ssc_p             float64\n",
       "ssc_b              object\n",
       "hsc_p             float64\n",
       "hsc_b              object\n",
       "hsc_s              object\n",
       "degree_p          float64\n",
       "degree_t           object\n",
       "workex             object\n",
       "etest_p           float64\n",
       "specialisation     object\n",
       "mba_p             float64\n",
       "status              int64\n",
       "salary            float64\n",
       "dtype: object"
      ]
     },
     "execution_count": 10,
     "metadata": {},
     "output_type": "execute_result"
    }
   ],
   "source": [
    "dataset.dtypes"
   ]
  },
  {
   "cell_type": "code",
   "execution_count": 11,
   "metadata": {},
   "outputs": [],
   "source": [
    "#Splitting of dependent and independent variable"
   ]
  },
  {
   "cell_type": "code",
   "execution_count": 12,
   "metadata": {},
   "outputs": [],
   "source": [
    "x=dataset.iloc[:,1:13].values"
   ]
  },
  {
   "cell_type": "code",
   "execution_count": 13,
   "metadata": {},
   "outputs": [
    {
     "data": {
      "text/plain": [
       "array([['M', 67.0, 'Others', ..., 55.0, 'Mkt&HR', 58.8],\n",
       "       ['M', 79.33, 'Central', ..., 86.5, 'Mkt&Fin', 66.28],\n",
       "       ['M', 65.0, 'Central', ..., 75.0, 'Mkt&Fin', 57.8],\n",
       "       ...,\n",
       "       ['M', 67.0, 'Others', ..., 59.0, 'Mkt&Fin', 69.72],\n",
       "       ['F', 74.0, 'Others', ..., 70.0, 'Mkt&HR', 60.23],\n",
       "       ['M', 62.0, 'Central', ..., 89.0, 'Mkt&HR', 60.22]], dtype=object)"
      ]
     },
     "execution_count": 13,
     "metadata": {},
     "output_type": "execute_result"
    }
   ],
   "source": [
    "x"
   ]
  },
  {
   "cell_type": "code",
   "execution_count": 14,
   "metadata": {},
   "outputs": [],
   "source": [
    "y=dataset.iloc[:,-2].values"
   ]
  },
  {
   "cell_type": "code",
   "execution_count": 15,
   "metadata": {},
   "outputs": [
    {
     "data": {
      "text/plain": [
       "array([1, 1, 1, 0, 1, 0, 0, 1, 1, 0, 1, 1, 0, 1, 0, 1, 1, 0, 0, 1, 1, 1,\n",
       "       1, 1, 1, 0, 1, 1, 1, 0, 1, 0, 1, 1, 0, 1, 0, 1, 1, 1, 1, 0, 0, 1,\n",
       "       1, 0, 0, 1, 1, 0, 1, 0, 0, 1, 1, 1, 1, 1, 1, 1, 1, 1, 1, 0, 1, 0,\n",
       "       1, 1, 0, 1, 1, 1, 1, 1, 1, 0, 1, 1, 1, 0, 1, 1, 0, 1, 1, 1, 1, 0,\n",
       "       1, 1, 1, 0, 1, 0, 1, 1, 1, 0, 1, 0, 0, 1, 1, 1, 1, 0, 0, 1, 1, 0,\n",
       "       1, 0, 1, 1, 1, 1, 1, 1, 1, 1, 0, 1, 1, 1, 1, 1, 1, 1, 1, 1, 0, 1,\n",
       "       1, 1, 1, 1, 0, 1, 1, 1, 1, 0, 1, 1, 0, 1, 1, 1, 1, 0, 1, 1, 1, 1,\n",
       "       1, 0, 1, 1, 0, 0, 1, 0, 1, 1, 1, 0, 1, 0, 0, 0, 0, 1, 1, 0, 1, 0,\n",
       "       1, 1, 1, 0, 1, 0, 0, 1, 0, 1, 0, 1, 0, 0, 0, 1, 1, 1, 0, 1, 1, 1,\n",
       "       0, 1, 1, 0, 1, 1, 1, 1, 0, 1, 0, 1, 1, 1, 1, 1, 0], dtype=int64)"
      ]
     },
     "execution_count": 15,
     "metadata": {},
     "output_type": "execute_result"
    }
   ],
   "source": [
    "y"
   ]
  },
  {
   "cell_type": "code",
   "execution_count": 16,
   "metadata": {},
   "outputs": [],
   "source": [
    "#y = y.astype('bool')"
   ]
  },
  {
   "cell_type": "code",
   "execution_count": 17,
   "metadata": {},
   "outputs": [
    {
     "data": {
      "text/plain": [
       "array([1, 1, 1, 0, 1, 0, 0, 1, 1, 0, 1, 1, 0, 1, 0, 1, 1, 0, 0, 1, 1, 1,\n",
       "       1, 1, 1, 0, 1, 1, 1, 0, 1, 0, 1, 1, 0, 1, 0, 1, 1, 1, 1, 0, 0, 1,\n",
       "       1, 0, 0, 1, 1, 0, 1, 0, 0, 1, 1, 1, 1, 1, 1, 1, 1, 1, 1, 0, 1, 0,\n",
       "       1, 1, 0, 1, 1, 1, 1, 1, 1, 0, 1, 1, 1, 0, 1, 1, 0, 1, 1, 1, 1, 0,\n",
       "       1, 1, 1, 0, 1, 0, 1, 1, 1, 0, 1, 0, 0, 1, 1, 1, 1, 0, 0, 1, 1, 0,\n",
       "       1, 0, 1, 1, 1, 1, 1, 1, 1, 1, 0, 1, 1, 1, 1, 1, 1, 1, 1, 1, 0, 1,\n",
       "       1, 1, 1, 1, 0, 1, 1, 1, 1, 0, 1, 1, 0, 1, 1, 1, 1, 0, 1, 1, 1, 1,\n",
       "       1, 0, 1, 1, 0, 0, 1, 0, 1, 1, 1, 0, 1, 0, 0, 0, 0, 1, 1, 0, 1, 0,\n",
       "       1, 1, 1, 0, 1, 0, 0, 1, 0, 1, 0, 1, 0, 0, 0, 1, 1, 1, 0, 1, 1, 1,\n",
       "       0, 1, 1, 0, 1, 1, 1, 1, 0, 1, 0, 1, 1, 1, 1, 1, 0], dtype=int64)"
      ]
     },
     "execution_count": 17,
     "metadata": {},
     "output_type": "execute_result"
    }
   ],
   "source": [
    "y"
   ]
  },
  {
   "cell_type": "code",
   "execution_count": 18,
   "metadata": {},
   "outputs": [],
   "source": [
    "# Data Preprocessing "
   ]
  },
  {
   "cell_type": "code",
   "execution_count": 19,
   "metadata": {},
   "outputs": [],
   "source": [
    "from sklearn.preprocessing import LabelEncoder"
   ]
  },
  {
   "cell_type": "code",
   "execution_count": 20,
   "metadata": {},
   "outputs": [],
   "source": [
    "lb=LabelEncoder()"
   ]
  },
  {
   "cell_type": "code",
   "execution_count": 21,
   "metadata": {},
   "outputs": [],
   "source": [
    "x[:,0] = lb.fit_transform(x[:,0])\n",
    "x[:,2] = lb.fit_transform(x[:,2])\n",
    "x[:,4] = lb.fit_transform(x[:,4])\n",
    "x[:,5] = lb.fit_transform(x[:,5])\n",
    "x[:,7] = lb.fit_transform(x[:,7])\n",
    "x[:,8] = lb.fit_transform(x[:,8])\n",
    "x[:,10] = lb.fit_transform(x[:,10])"
   ]
  },
  {
   "cell_type": "code",
   "execution_count": 22,
   "metadata": {},
   "outputs": [
    {
     "data": {
      "text/plain": [
       "array([[1, 67.0, 1, ..., 55.0, 1, 58.8],\n",
       "       [1, 79.33, 0, ..., 86.5, 0, 66.28],\n",
       "       [1, 65.0, 0, ..., 75.0, 0, 57.8],\n",
       "       ...,\n",
       "       [1, 67.0, 1, ..., 59.0, 0, 69.72],\n",
       "       [0, 74.0, 1, ..., 70.0, 1, 60.23],\n",
       "       [1, 62.0, 0, ..., 89.0, 1, 60.22]], dtype=object)"
      ]
     },
     "execution_count": 22,
     "metadata": {},
     "output_type": "execute_result"
    }
   ],
   "source": [
    "x"
   ]
  },
  {
   "cell_type": "code",
   "execution_count": 23,
   "metadata": {},
   "outputs": [],
   "source": [
    "y[:]=lb.fit_transform(y[:])"
   ]
  },
  {
   "cell_type": "code",
   "execution_count": 24,
   "metadata": {},
   "outputs": [
    {
     "data": {
      "text/plain": [
       "array([1, 1, 1, 0, 1, 0, 0, 1, 1, 0, 1, 1, 0, 1, 0, 1, 1, 0, 0, 1, 1, 1,\n",
       "       1, 1, 1, 0, 1, 1, 1, 0, 1, 0, 1, 1, 0, 1, 0, 1, 1, 1, 1, 0, 0, 1,\n",
       "       1, 0, 0, 1, 1, 0, 1, 0, 0, 1, 1, 1, 1, 1, 1, 1, 1, 1, 1, 0, 1, 0,\n",
       "       1, 1, 0, 1, 1, 1, 1, 1, 1, 0, 1, 1, 1, 0, 1, 1, 0, 1, 1, 1, 1, 0,\n",
       "       1, 1, 1, 0, 1, 0, 1, 1, 1, 0, 1, 0, 0, 1, 1, 1, 1, 0, 0, 1, 1, 0,\n",
       "       1, 0, 1, 1, 1, 1, 1, 1, 1, 1, 0, 1, 1, 1, 1, 1, 1, 1, 1, 1, 0, 1,\n",
       "       1, 1, 1, 1, 0, 1, 1, 1, 1, 0, 1, 1, 0, 1, 1, 1, 1, 0, 1, 1, 1, 1,\n",
       "       1, 0, 1, 1, 0, 0, 1, 0, 1, 1, 1, 0, 1, 0, 0, 0, 0, 1, 1, 0, 1, 0,\n",
       "       1, 1, 1, 0, 1, 0, 0, 1, 0, 1, 0, 1, 0, 0, 0, 1, 1, 1, 0, 1, 1, 1,\n",
       "       0, 1, 1, 0, 1, 1, 1, 1, 0, 1, 0, 1, 1, 1, 1, 1, 0], dtype=int64)"
      ]
     },
     "execution_count": 24,
     "metadata": {},
     "output_type": "execute_result"
    }
   ],
   "source": [
    "y"
   ]
  },
  {
   "cell_type": "code",
   "execution_count": 25,
   "metadata": {},
   "outputs": [],
   "source": [
    "#Split data into test and train"
   ]
  },
  {
   "cell_type": "code",
   "execution_count": 26,
   "metadata": {},
   "outputs": [],
   "source": [
    "from sklearn.model_selection import train_test_split "
   ]
  },
  {
   "cell_type": "code",
   "execution_count": 27,
   "metadata": {},
   "outputs": [],
   "source": [
    "x_train,x_test,y_train,y_test=train_test_split(x,y,test_size=0.3,random_state=0) "
   ]
  },
  {
   "cell_type": "code",
   "execution_count": 28,
   "metadata": {},
   "outputs": [
    {
     "data": {
      "text/plain": [
       "array([[1, 51.0, 1, ..., 60.0, 1, 60.64],\n",
       "       [1, 52.0, 0, ..., 62.0, 1, 60.59],\n",
       "       [1, 76.5, 1, ..., 97.4, 0, 74.01],\n",
       "       ...,\n",
       "       [1, 77.0, 1, ..., 80.0, 0, 67.05],\n",
       "       [1, 63.0, 0, ..., 78.0, 0, 54.55],\n",
       "       [1, 73.0, 1, ..., 84.0, 1, 52.64]], dtype=object)"
      ]
     },
     "execution_count": 28,
     "metadata": {},
     "output_type": "execute_result"
    }
   ],
   "source": [
    "x_train"
   ]
  },
  {
   "cell_type": "code",
   "execution_count": 29,
   "metadata": {},
   "outputs": [
    {
     "data": {
      "text/plain": [
       "array([[0, 67.0, 0, 70.0, 0, 1, 65.0, 1, 0, 88.0, 1, 71.96],\n",
       "       [0, 79.0, 0, 76.0, 0, 2, 65.6, 2, 0, 58.0, 1, 55.47],\n",
       "       [0, 84.0, 1, 75.0, 1, 2, 69.0, 2, 1, 62.0, 1, 62.36],\n",
       "       [0, 48.0, 0, 51.0, 0, 1, 58.0, 0, 1, 60.0, 1, 58.79],\n",
       "       [1, 80.0, 1, 80.0, 1, 1, 72.0, 0, 1, 63.79, 0, 66.04],\n",
       "       [0, 59.0, 0, 62.0, 1, 1, 77.5, 0, 0, 74.0, 1, 67.0],\n",
       "       [0, 76.0, 0, 70.0, 0, 2, 76.0, 0, 1, 66.0, 0, 64.44],\n",
       "       [1, 67.0, 1, 63.0, 0, 1, 72.0, 0, 0, 56.0, 1, 60.41],\n",
       "       [1, 55.0, 1, 49.8, 1, 2, 67.25, 2, 1, 55.0, 0, 51.58],\n",
       "       [1, 84.0, 1, 79.0, 1, 2, 68.0, 2, 1, 84.0, 0, 66.69],\n",
       "       [1, 60.4, 0, 66.6, 1, 2, 65.0, 0, 0, 71.0, 1, 52.71],\n",
       "       [1, 89.4, 1, 65.66, 1, 2, 71.25, 2, 0, 72.0, 1, 63.23],\n",
       "       [1, 87.0, 0, 74.0, 0, 2, 65.0, 2, 1, 75.0, 1, 72.29],\n",
       "       [1, 58.0, 1, 61.0, 1, 1, 61.0, 0, 0, 58.0, 1, 53.94],\n",
       "       [1, 56.6, 0, 64.8, 0, 1, 70.2, 0, 0, 84.27, 0, 67.2],\n",
       "       [1, 55.68, 1, 61.33, 1, 1, 56.87, 0, 0, 66.0, 1, 58.3],\n",
       "       [0, 79.0, 1, 61.0, 1, 2, 75.5, 2, 1, 70.0, 0, 68.2],\n",
       "       [0, 47.0, 0, 55.0, 1, 2, 65.0, 0, 0, 62.0, 1, 65.04],\n",
       "       [1, 49.0, 1, 59.0, 1, 2, 65.0, 2, 1, 86.0, 0, 62.48],\n",
       "       [1, 67.0, 1, 63.0, 1, 2, 64.0, 2, 0, 60.0, 0, 61.87],\n",
       "       [1, 59.96, 1, 42.16, 1, 2, 61.26, 2, 0, 54.48, 1, 65.48],\n",
       "       [1, 66.0, 0, 64.0, 0, 2, 60.0, 0, 0, 60.0, 1, 61.9],\n",
       "       [1, 62.0, 0, 72.0, 0, 1, 65.0, 0, 0, 67.0, 0, 56.49],\n",
       "       [0, 64.0, 1, 70.2, 0, 1, 61.0, 0, 0, 50.0, 0, 62.5],\n",
       "       [1, 52.0, 1, 50.0, 1, 0, 61.0, 0, 0, 60.0, 0, 58.52],\n",
       "       [0, 63.0, 0, 66.0, 0, 1, 64.0, 0, 0, 68.0, 1, 64.08],\n",
       "       [0, 88.0, 0, 72.0, 0, 2, 78.0, 1, 0, 82.0, 1, 71.43],\n",
       "       [0, 65.0, 0, 75.0, 0, 1, 69.0, 0, 1, 72.0, 0, 64.66],\n",
       "       [1, 62.0, 1, 63.0, 1, 1, 64.0, 0, 0, 67.0, 0, 57.03],\n",
       "       [1, 75.0, 1, 70.29, 1, 1, 71.0, 0, 0, 95.0, 0, 66.94],\n",
       "       [1, 82.0, 0, 64.0, 0, 2, 66.0, 2, 1, 67.0, 0, 62.14],\n",
       "       [1, 61.0, 1, 70.0, 1, 1, 64.0, 0, 0, 68.5, 1, 59.5],\n",
       "       [1, 77.67, 1, 64.89, 1, 1, 70.67, 0, 0, 89.0, 0, 60.39],\n",
       "       [0, 70.5, 0, 62.5, 1, 1, 61.0, 0, 0, 93.91, 0, 69.03],\n",
       "       [0, 47.0, 0, 59.0, 0, 0, 64.0, 0, 0, 78.0, 0, 61.58],\n",
       "       [1, 74.2, 0, 87.6, 1, 1, 77.25, 0, 1, 75.2, 0, 66.06],\n",
       "       [0, 87.0, 1, 65.0, 1, 2, 81.0, 0, 1, 88.0, 0, 72.78],\n",
       "       [1, 53.0, 0, 63.0, 1, 2, 60.0, 0, 1, 70.0, 0, 53.2],\n",
       "       [0, 85.0, 1, 90.0, 1, 1, 82.0, 0, 0, 92.0, 0, 68.03],\n",
       "       [1, 58.0, 1, 60.0, 1, 2, 72.0, 2, 0, 74.0, 0, 53.62],\n",
       "       [1, 61.08, 1, 50.0, 1, 2, 54.0, 2, 0, 71.0, 0, 65.69],\n",
       "       [1, 62.0, 0, 60.33, 1, 2, 64.21, 2, 0, 63.0, 1, 60.02],\n",
       "       [1, 77.0, 0, 70.0, 0, 1, 59.0, 0, 1, 58.0, 0, 54.43],\n",
       "       [1, 63.0, 0, 66.2, 0, 1, 65.6, 0, 1, 60.0, 0, 62.54],\n",
       "       [0, 72.0, 0, 56.0, 1, 2, 69.0, 0, 0, 55.6, 1, 65.63],\n",
       "       [0, 66.5, 0, 66.8, 0, 0, 69.3, 0, 1, 80.4, 0, 71.0],\n",
       "       [0, 69.8, 1, 60.8, 1, 2, 72.23, 2, 0, 55.53, 1, 68.81],\n",
       "       [0, 69.0, 1, 62.0, 1, 1, 69.0, 0, 1, 67.0, 1, 62.35],\n",
       "       [0, 76.0, 0, 64.0, 0, 2, 72.0, 2, 0, 58.0, 1, 66.53],\n",
       "       [0, 66.5, 1, 70.4, 0, 0, 71.93, 0, 0, 61.0, 0, 64.27],\n",
       "       [1, 85.8, 0, 73.6, 0, 1, 73.3, 0, 0, 96.8, 0, 55.5],\n",
       "       [1, 61.0, 0, 82.0, 0, 1, 69.0, 0, 0, 84.0, 0, 58.31],\n",
       "       [0, 83.96, 1, 53.0, 1, 2, 91.0, 2, 0, 59.32, 1, 69.71],\n",
       "       [0, 77.0, 1, 73.0, 1, 1, 81.0, 0, 1, 89.0, 0, 69.7],\n",
       "       [0, 82.0, 1, 64.0, 1, 2, 73.0, 2, 1, 96.0, 0, 71.77],\n",
       "       [0, 40.89, 1, 45.83, 1, 1, 53.0, 0, 0, 71.2, 1, 65.49],\n",
       "       [1, 83.0, 1, 74.0, 1, 2, 66.0, 0, 0, 68.92, 1, 58.46],\n",
       "       [1, 71.0, 1, 79.0, 1, 1, 66.0, 0, 1, 94.0, 0, 57.55],\n",
       "       [1, 84.2, 0, 73.4, 0, 1, 66.89, 0, 0, 61.6, 0, 62.48],\n",
       "       [1, 51.57, 1, 74.66, 1, 1, 59.9, 0, 1, 56.15, 1, 65.99],\n",
       "       [1, 66.5, 0, 62.5, 0, 1, 60.9, 0, 0, 93.4, 0, 55.03],\n",
       "       [1, 73.0, 0, 79.0, 0, 1, 72.0, 0, 0, 91.34, 0, 61.29],\n",
       "       [0, 78.0, 0, 77.0, 1, 1, 80.0, 0, 0, 60.0, 0, 66.72],\n",
       "       [1, 76.7, 0, 89.7, 1, 1, 66.0, 0, 1, 90.0, 0, 68.55],\n",
       "       [0, 77.0, 0, 87.0, 0, 1, 59.0, 0, 0, 68.0, 0, 68.63]], dtype=object)"
      ]
     },
     "execution_count": 29,
     "metadata": {},
     "output_type": "execute_result"
    }
   ],
   "source": [
    "x_test"
   ]
  },
  {
   "cell_type": "code",
   "execution_count": 30,
   "metadata": {},
   "outputs": [
    {
     "data": {
      "text/plain": [
       "array([0, 0, 1, 1, 1, 1, 0, 1, 1, 0, 1, 1, 0, 0, 1, 0, 0, 1, 1, 1, 1, 1,\n",
       "       0, 1, 1, 0, 1, 0, 1, 1, 0, 1, 1, 1, 1, 0, 1, 1, 1, 1, 1, 0, 0, 1,\n",
       "       1, 1, 0, 0, 1, 0, 1, 1, 1, 1, 1, 1, 1, 1, 1, 0, 1, 0, 1, 1, 1, 1,\n",
       "       1, 0, 1, 1, 1, 0, 0, 1, 1, 0, 0, 1, 1, 1, 0, 0, 1, 1, 1, 1, 1, 0,\n",
       "       1, 0, 0, 0, 0, 1, 0, 0, 1, 1, 1, 1, 1, 1, 0, 1, 1, 1, 1, 0, 1, 1,\n",
       "       0, 1, 0, 1, 1, 1, 0, 1, 0, 0, 0, 0, 1, 1, 1, 1, 1, 0, 0, 1, 1, 1,\n",
       "       1, 1, 1, 1, 1, 1, 1, 0, 0, 1, 0, 1, 1, 1, 1, 1, 1, 1], dtype=int64)"
      ]
     },
     "execution_count": 30,
     "metadata": {},
     "output_type": "execute_result"
    }
   ],
   "source": [
    "y_train"
   ]
  },
  {
   "cell_type": "code",
   "execution_count": 31,
   "metadata": {},
   "outputs": [
    {
     "data": {
      "text/plain": [
       "array([0, 1, 1, 0, 1, 0, 1, 1, 0, 1, 1, 1, 1, 1, 1, 1, 1, 0, 1, 0, 0, 0,\n",
       "       1, 0, 0, 0, 1, 1, 1, 1, 1, 0, 1, 0, 0, 1, 1, 1, 1, 1, 0, 0, 1, 1,\n",
       "       1, 1, 1, 1, 0, 1, 1, 1, 1, 1, 1, 0, 1, 1, 1, 0, 1, 1, 1, 1, 1],\n",
       "      dtype=int64)"
      ]
     },
     "execution_count": 31,
     "metadata": {},
     "output_type": "execute_result"
    }
   ],
   "source": [
    "y_test"
   ]
  },
  {
   "cell_type": "code",
   "execution_count": 32,
   "metadata": {},
   "outputs": [],
   "source": [
    "#Feature Scaling"
   ]
  },
  {
   "cell_type": "code",
   "execution_count": 33,
   "metadata": {},
   "outputs": [],
   "source": [
    "from sklearn.preprocessing import MinMaxScaler"
   ]
  },
  {
   "cell_type": "code",
   "execution_count": 34,
   "metadata": {},
   "outputs": [],
   "source": [
    "sc=MinMaxScaler()"
   ]
  },
  {
   "cell_type": "code",
   "execution_count": 35,
   "metadata": {},
   "outputs": [],
   "source": [
    "x_train=sc.fit_transform(x_train)"
   ]
  },
  {
   "cell_type": "code",
   "execution_count": 36,
   "metadata": {},
   "outputs": [],
   "source": [
    "x_test=sc.transform(x_test)"
   ]
  },
  {
   "cell_type": "code",
   "execution_count": 37,
   "metadata": {},
   "outputs": [],
   "source": [
    "#import seaborn as sns"
   ]
  },
  {
   "cell_type": "code",
   "execution_count": 38,
   "metadata": {},
   "outputs": [],
   "source": [
    "#sns.pairplot(dataset) "
   ]
  },
  {
   "cell_type": "code",
   "execution_count": 39,
   "metadata": {},
   "outputs": [],
   "source": [
    "from sklearn.linear_model import LogisticRegression\n",
    "from sklearn.ensemble import RandomForestClassifier\n",
    "from sklearn.tree import DecisionTreeClassifier\n",
    "from sklearn.neighbors import KNeighborsClassifier\n",
    "from sklearn.metrics import accuracy_score,recall_score,f1_score,precision_score,roc_auc_score\n",
    "from sklearn.model_selection import GridSearchCV"
   ]
  },
  {
   "cell_type": "code",
   "execution_count": 40,
   "metadata": {},
   "outputs": [],
   "source": [
    "list = []"
   ]
  },
  {
   "cell_type": "code",
   "execution_count": 41,
   "metadata": {},
   "outputs": [],
   "source": [
    "dict = {}\n",
    "logr=LogisticRegression()\n",
    "logr.fit(x_train,y_train)\n",
    "y_pred=logr.predict(x_test)\n",
    "dict['Algorithm Model'] = 'Logistic Regression'\n",
    "dict['Accuracy'] = accuracy_score(y_test,y_pred)\n",
    "dict['Recall'] = recall_score(y_test,y_pred)\n",
    "dict['Precision'] = precision_score(y_test,y_pred)\n",
    "dict['F1 score'] = f1_score(y_test,y_pred)\n",
    "dict['roc_auc'] = roc_auc_score(y_test,y_pred)\n",
    "list.append(dict)"
   ]
  },
  {
   "cell_type": "code",
   "execution_count": 42,
   "metadata": {},
   "outputs": [],
   "source": [
    "#tree = DecisionTreeClassifier()\n",
    "#tree_param = {\n",
    " #   'criterion':['gini','entropy'],\n",
    " #   'splitter':['best','random'],  \n",
    "  #  'max_depth':[3,4,5,6],\n",
    "  #  'max_features':['auto','log2'],\n",
    "   # 'random_state':[123]\n",
    "#}\n",
    "\n",
    "#grid = GridSearchCV(tree, tree_param, cv=10)\n",
    "#best_parameter_search = grid.fit(x_train,y_train)\n",
    "#best_parameter_search.best_params_"
   ]
  },
  {
   "cell_type": "code",
   "execution_count": 43,
   "metadata": {},
   "outputs": [],
   "source": [
    "dict1 = {}\n",
    "dt=DecisionTreeClassifier(criterion='entropy',max_depth=5,max_features='auto',random_state=123,splitter='best')\n",
    "dt.fit(x_train,y_train)\n",
    "y_pred1=dt.predict(x_test)\n",
    "dict1['Algorithm Model'] = 'Decision Tree Classisifer'\n",
    "dict1['Accuracy'] = accuracy_score(y_test,y_pred1)\n",
    "dict1['Recall'] = recall_score(y_test,y_pred1)\n",
    "dict1['Precision'] = precision_score(y_test,y_pred1)\n",
    "dict1['F1 score'] = f1_score(y_test,y_pred1)\n",
    "dict1['roc_auc'] = roc_auc_score(y_test,y_pred1)\n",
    "list.append(dict1)\n",
    "\n",
    "\n"
   ]
  },
  {
   "cell_type": "code",
   "execution_count": 44,
   "metadata": {},
   "outputs": [],
   "source": [
    "dict2 = {}\n",
    "rf=RandomForestClassifier(n_estimators=1000,criterion='entropy',random_state=0)\n",
    "rf.fit(x_train,y_train)\n",
    "y_pred2=rf.predict(x_test)\n",
    "dict2['Algorithm Model'] = 'Random Forest'\n",
    "dict2['Accuracy'] = accuracy_score(y_test,y_pred2)\n",
    "dict2['Recall'] = recall_score(y_test,y_pred2)\n",
    "dict2['Precision'] = precision_score(y_test,y_pred2)\n",
    "dict2['F1 score'] = f1_score(y_test,y_pred2)\n",
    "dict2['roc_auc'] = roc_auc_score(y_test,y_pred2)\n",
    "list.append(dict2)\n"
   ]
  },
  {
   "cell_type": "code",
   "execution_count": 45,
   "metadata": {},
   "outputs": [],
   "source": [
    "dict3 = {}\n",
    "knn=KNeighborsClassifier(n_neighbors=5,p=2)\n",
    "knn.fit(x_train,y_train)\n",
    "y_pred3=knn.predict(x_test)\n",
    "dict3['Algorithm Model'] = 'KNN'\n",
    "dict3['Accuracy'] = accuracy_score(y_test,y_pred3)\n",
    "dict3['Recall'] = recall_score(y_test,y_pred3)\n",
    "dict3['Precision'] = precision_score(y_test,y_pred3)\n",
    "dict3['F1 score'] = f1_score(y_test,y_pred3)\n",
    "dict3['roc_auc'] = roc_auc_score(y_test,y_pred3)\n",
    "list.append(dict3)"
   ]
  },
  {
   "cell_type": "code",
   "execution_count": 46,
   "metadata": {},
   "outputs": [
    {
     "data": {
      "text/html": [
       "<div>\n",
       "<style scoped>\n",
       "    .dataframe tbody tr th:only-of-type {\n",
       "        vertical-align: middle;\n",
       "    }\n",
       "\n",
       "    .dataframe tbody tr th {\n",
       "        vertical-align: top;\n",
       "    }\n",
       "\n",
       "    .dataframe thead th {\n",
       "        text-align: right;\n",
       "    }\n",
       "</style>\n",
       "<table border=\"1\" class=\"dataframe\">\n",
       "  <thead>\n",
       "    <tr style=\"text-align: right;\">\n",
       "      <th></th>\n",
       "      <th>Algorithm Model</th>\n",
       "      <th>Accuracy</th>\n",
       "      <th>Recall</th>\n",
       "      <th>Precision</th>\n",
       "      <th>F1 score</th>\n",
       "      <th>roc_auc</th>\n",
       "    </tr>\n",
       "  </thead>\n",
       "  <tbody>\n",
       "    <tr>\n",
       "      <th>0</th>\n",
       "      <td>Logistic Regression</td>\n",
       "      <td>0.846154</td>\n",
       "      <td>0.978261</td>\n",
       "      <td>0.833333</td>\n",
       "      <td>0.900000</td>\n",
       "      <td>0.752288</td>\n",
       "    </tr>\n",
       "    <tr>\n",
       "      <th>1</th>\n",
       "      <td>Decision Tree Classisifer</td>\n",
       "      <td>0.769231</td>\n",
       "      <td>0.891304</td>\n",
       "      <td>0.803922</td>\n",
       "      <td>0.845361</td>\n",
       "      <td>0.682494</td>\n",
       "    </tr>\n",
       "    <tr>\n",
       "      <th>2</th>\n",
       "      <td>Random Forest</td>\n",
       "      <td>0.784615</td>\n",
       "      <td>0.913043</td>\n",
       "      <td>0.807692</td>\n",
       "      <td>0.857143</td>\n",
       "      <td>0.693364</td>\n",
       "    </tr>\n",
       "    <tr>\n",
       "      <th>3</th>\n",
       "      <td>KNN</td>\n",
       "      <td>0.753846</td>\n",
       "      <td>0.913043</td>\n",
       "      <td>0.777778</td>\n",
       "      <td>0.840000</td>\n",
       "      <td>0.640732</td>\n",
       "    </tr>\n",
       "  </tbody>\n",
       "</table>\n",
       "</div>"
      ],
      "text/plain": [
       "             Algorithm Model  Accuracy    Recall  Precision  F1 score  \\\n",
       "0        Logistic Regression  0.846154  0.978261   0.833333  0.900000   \n",
       "1  Decision Tree Classisifer  0.769231  0.891304   0.803922  0.845361   \n",
       "2              Random Forest  0.784615  0.913043   0.807692  0.857143   \n",
       "3                        KNN  0.753846  0.913043   0.777778  0.840000   \n",
       "\n",
       "    roc_auc  \n",
       "0  0.752288  \n",
       "1  0.682494  \n",
       "2  0.693364  \n",
       "3  0.640732  "
      ]
     },
     "execution_count": 46,
     "metadata": {},
     "output_type": "execute_result"
    }
   ],
   "source": [
    "table = pd.DataFrame(list)\n",
    "table"
   ]
  },
  {
   "cell_type": "code",
   "execution_count": null,
   "metadata": {},
   "outputs": [],
   "source": []
  },
  {
   "cell_type": "code",
   "execution_count": null,
   "metadata": {},
   "outputs": [],
   "source": []
  },
  {
   "cell_type": "code",
   "execution_count": 47,
   "metadata": {},
   "outputs": [],
   "source": [
    "#y_pred"
   ]
  },
  {
   "cell_type": "code",
   "execution_count": 48,
   "metadata": {},
   "outputs": [],
   "source": [
    "#y_test"
   ]
  },
  {
   "cell_type": "code",
   "execution_count": 49,
   "metadata": {},
   "outputs": [],
   "source": [
    "#from sklearn.metrics import accuracy_score"
   ]
  },
  {
   "cell_type": "code",
   "execution_count": 50,
   "metadata": {},
   "outputs": [],
   "source": [
    "#print(\"Accuracy:\",accuracy_score(y_test,y_pred)*100,\"%\")"
   ]
  },
  {
   "cell_type": "code",
   "execution_count": null,
   "metadata": {},
   "outputs": [],
   "source": []
  },
  {
   "cell_type": "code",
   "execution_count": null,
   "metadata": {},
   "outputs": [],
   "source": []
  }
 ],
 "metadata": {
  "kernelspec": {
   "display_name": "Python 3",
   "language": "python",
   "name": "python3"
  },
  "language_info": {
   "codemirror_mode": {
    "name": "ipython",
    "version": 3
   },
   "file_extension": ".py",
   "mimetype": "text/x-python",
   "name": "python",
   "nbconvert_exporter": "python",
   "pygments_lexer": "ipython3",
   "version": "3.8.5"
  }
 },
 "nbformat": 4,
 "nbformat_minor": 4
}
